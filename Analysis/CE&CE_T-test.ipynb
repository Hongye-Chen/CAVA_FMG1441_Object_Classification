{
 "cells": [
  {
   "cell_type": "code",
   "execution_count": null,
   "outputs": [],
   "source": [
    "import numpy as np\n",
    "import pandas as pd\n",
    "import os\n",
    "from scipy import stats\n",
    "from scipy.stats import ttest_1samp\n",
    "import matplotlib.pyplot as plt"
   ],
   "metadata": {
    "collapsed": false
   }
  },
  {
   "cell_type": "code",
   "execution_count": null,
   "outputs": [],
   "source": [
    "Data_path = r\"Y:\\Projects\\2023_Scholte_FMG1441\\Data\"\n",
    "epochs_timewindows = np.load(os.path.join(Data_path, \"Epochs_Time_Window.npy\"))\n",
    "# Set the plot size\n",
    "plt.rcParams['figure.figsize'] = [18, 12]\n",
    "max_sub = 15    # Maximum number of participants\n",
    "min_rep = 5     # Define minimum repetition\n",
    "ce = []\n",
    "sc = []\n",
    "ce_pvalue = []\n",
    "sc_pvalue = []\n",
    "ce_confidence_interval = []\n",
    "sc_confidence_interval = []"
   ],
   "metadata": {
    "collapsed": false
   }
  },
  {
   "cell_type": "code",
   "execution_count": null,
   "outputs": [],
   "source": [
    "for i in range(5, max_sub+1):\n",
    "    sub_name = \"sub_\" + str(i)\n",
    "    sub_data_path = os.path.join(Data_path, sub_name, \"Regression\", sub_name + \"_βcoef(Oz).npy\")\n",
    "    sub_data = np.load(sub_data_path)\n",
    "    ce.append(list(sub_data[:, 0:min_rep].mean(axis = 1)))\n",
    "    # ce += list(sub_data[:, 0:min_rep].mean(axis = 1))\n",
    "    sc.append(list(sub_data[:, min_rep:].mean(axis = 1)))\n",
    "    print(i)\n",
    "    # sc += list(sub_data[:, min_rep:].mean(axis = 1))\n",
    "ce = np.array(ce)\n",
    "ce.shape\n",
    "sc = np.array(sc)\n",
    "sc.shape"
   ],
   "metadata": {
    "collapsed": false
   }
  },
  {
   "cell_type": "code",
   "execution_count": null,
   "outputs": [],
   "source": [
    "for i in range(0, ce.shape[1]):\n",
    "    ce_results = stats.ttest_1samp(ce[:, i], popmean = 0)\n",
    "    ce_ci = ce_results.confidence_interval(confidence_level=0.95)\n",
    "    ce_pvalue.append(ce_results.pvalue)\n",
    "    ce_confidence_interval.append(list(ce_ci))\n",
    "    sc_results = stats.ttest_1samp(sc[:, i], popmean = 0)\n",
    "    sc_ci = sc_results.confidence_interval(confidence_level=0.95)\n",
    "    sc_pvalue.append(sc_results.pvalue)\n",
    "    sc_confidence_interval.append(list(sc_ci))\n",
    "ce_pvalue = np.array(ce_pvalue)\n",
    "sc_pvalue = np.array(sc_pvalue)\n",
    "ce_confidence_interval = np.array(ce_confidence_interval)\n",
    "sc_confidence_interval = np.array(sc_confidence_interval)\n",
    "min_coef = np.min((np.min(ce_confidence_interval), np.min(sc_confidence_interval)))"
   ],
   "metadata": {
    "collapsed": false
   }
  },
  {
   "cell_type": "code",
   "execution_count": null,
   "outputs": [],
   "source": [
    "plt.figure(2).clear()\n",
    "plt.figure(2)\n",
    "ce_plt, = plt.plot(epochs_timewindows, ce.mean(axis = 0), label = \"CE\")\n",
    "plt.fill_between(epochs_timewindows, ce_confidence_interval[:, 0], ce_confidence_interval[:, 1], alpha = .1)\n",
    "sc_plt, = plt.plot(epochs_timewindows, sc.mean(axis = 0), label = \"SC\")\n",
    "plt.fill_between(epochs_timewindows, sc_confidence_interval[:, 0], sc_confidence_interval[:, 1], alpha = .1)\n",
    "ce_p_index = np.where(ce_pvalue < 0.05)[0]\n",
    "sc_p_index = np.where(sc_pvalue < 0.05)[0]\n",
    "plt.scatter(epochs_timewindows[ce_p_index], [min_coef] * ce_p_index.shape[0], marker = \"|\", c = ce_plt.get_c())\n",
    "plt.scatter(epochs_timewindows[sc_p_index], [min_coef*0.98] * sc_p_index.shape[0], marker = \"|\", c = sc_plt.get_c())\n",
    "plt.axhline(y=0, color='r', linestyle='-')\n",
    "plt.xlabel('Time')\n",
    "plt.ylabel('β-coefficients')\n",
    "plt.title(\"β-coefficients T test\")\n",
    "plt.legend(fontsize=\"20\")\n",
    "plt.savefig(os.path.join(Data_path, \"Coefficients_T-test.png\"))"
   ],
   "metadata": {
    "collapsed": false
   }
  }
 ],
 "metadata": {
  "kernelspec": {
   "display_name": "Python 3",
   "language": "python",
   "name": "python3"
  },
  "language_info": {
   "codemirror_mode": {
    "name": "ipython",
    "version": 2
   },
   "file_extension": ".py",
   "mimetype": "text/x-python",
   "name": "python",
   "nbconvert_exporter": "python",
   "pygments_lexer": "ipython2",
   "version": "2.7.6"
  }
 },
 "nbformat": 4,
 "nbformat_minor": 0
}
