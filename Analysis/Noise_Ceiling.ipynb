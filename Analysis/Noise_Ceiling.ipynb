{
 "cells": [
  {
   "cell_type": "code",
   "execution_count": 1,
   "metadata": {},
   "outputs": [],
   "source": [
    "import numpy as np\n",
    "import mne\n",
    "import pandas as pd\n",
    "import yaml\n",
    "import os\n",
    "import matplotlib.pyplot as plt\n",
    "import copy\n",
    "import scipy.stats\n",
    "import multiprocessing\n",
    "import time\n",
    "import tqdm\n",
    "import pickle\n",
    "from scipy import stats\n",
    "\n",
    "\n",
    "import torch\n",
    "from torch.utils.data import DataLoader\n",
    "from torch import nn\n",
    "from torchvision.models import resnet18, resnet50\n",
    "from torchvision.models.feature_extraction import create_feature_extractor\n",
    "from torchvision import transforms\n",
    "from pytorch_utils.pytorch_utils import ToJpeg, ToOpponentChannel, collate_fn, record_activations, evaluate\n",
    "from oads_access.oads_access import OADS_Access, OADSImageDataset"
   ]
  },
  {
   "cell_type": "code",
   "execution_count": 2,
   "metadata": {},
   "outputs": [],
   "source": [
    "# Define the paths\n",
    "project_path = r\"/home/c14271389\"\n",
    "server_path = r\"/home/c14271389/FMG-folder\"\n",
    "dic_path = os.path.join(project_path, \"EventsID_Dictionary.csv\")\n",
    "statistics_path = os.path.join(project_path, \"Stimuli\")\n",
    "# epoch_path = os.path.join(server_path, subject_name, \"Preprocessed epochs\", subject_name + \"-OC&CSD-AutoReject-epo.fif\")\n",
    "# Model_path = os.path.join(project_path, \"Res-net\", \"resnet50\", \"rgb\", \"best_model_23-03-23-17-14-41.pth\")"
   ]
  },
  {
   "cell_type": "code",
   "execution_count": 3,
   "metadata": {},
   "outputs": [],
   "source": [
    "oads = OADS_Access(basedir=f'/home/Public/Datasets/oads', n_processes=12)\n",
    "train_ids, val_ids, test_ids = oads.get_train_val_test_split_indices(use_crops=False)\n",
    "\n",
    "\n",
    "with open(os.path.join(statistics_path, \"eeg_oads_stimulus_filenames.yml\"), 'rb') as f:\n",
    "    subjects = yaml.load(f, Loader=yaml.UnsafeLoader)"
   ]
  },
  {
   "cell_type": "code",
   "execution_count": 36,
   "metadata": {},
   "outputs": [
    {
     "data": {
      "text/plain": [
       "(259,)"
      ]
     },
     "execution_count": 36,
     "metadata": {},
     "output_type": "execute_result"
    }
   ],
   "source": [
    "shared_images = np.intersect1d(np.array(subjects[\"sub_20\"]), np.array(subjects[\"sub_35\"]))\n",
    "shared_images.shape\n",
    "# 'Stimuli\\\\faba7a50277d08c9.tiff' in subjects[\"sub_29\"]"
   ]
  },
  {
   "cell_type": "code",
   "execution_count": 37,
   "metadata": {},
   "outputs": [],
   "source": [
    "def shared(argx):\n",
    "    subject_name = \"sub_\" + str(argx)\n",
    "    epoch_path = os.path.join(server_path, subject_name, \"Preprocessed epochs\", subject_name + \"-OC&CSD-AutoReject-epo.fif\")\n",
    "    # Get Epochs\n",
    "    sub_epochs = mne.read_epochs(epoch_path)\n",
    "    sub_epochs = sub_epochs.pick_types(csd = True)\n",
    "    channel_names = sub_epochs.ch_names\n",
    "    posterior_lobe = ['P1', 'P3', 'P5', 'P7', 'P9', 'PO7', 'PO3', 'O1', 'Iz', 'Oz', 'POz', 'Pz', 'P2', 'P4', 'P6', 'P8', 'P10', 'PO8', 'PO4', 'O2', 'F5', 'F6']\n",
    "    # posterior_channel = [i for i,j in enumerate(channel_names) if j in posterior_lobe]\n",
    "    posterior_epochs = sub_epochs.pick_channels(ch_names=posterior_lobe)\n",
    "    # Get events filename\n",
    "    events = posterior_epochs.events[:, 2]\n",
    "    All_Images_df = pd.read_csv(dic_path, header=None)      # Read the Image dictionary\n",
    "    All_Images_dict = dict(zip(All_Images_df[1], All_Images_df[0]))     # Read the Image dictionary\n",
    "    events_filename = np.array([All_Images_dict[i][:-5] for i in events])\n",
    "    # oz_epochs = sub_epochs.pick_channels(ch_names=['Oz'])\n",
    "\n",
    "    # Get the subject images list\n",
    "    cur_sub = copy.deepcopy(shared_images)\n",
    "    for i in range(len(cur_sub)):\n",
    "        if len(cur_sub[i]) < 37:\n",
    "            cur_sub[i] = cur_sub[i].split('\\\\')[1][:-5]\n",
    "        else:\n",
    "            cur_sub[i] = cur_sub[i].split('\\\\')[2][:-5]\n",
    "\n",
    "    # Get index of images from the events and model\n",
    "    Images_index = dict()\n",
    "    missing_images_counter = 0\n",
    "    for i in range(len(cur_sub)):\n",
    "        cur_image_index = np.where(events_filename == cur_sub[i])[0]\n",
    "        # cur_image_index = [a for a, b in enumerate(events_filename) if b == sub_sti[i]]\n",
    "        if (len(cur_image_index) > 0) and (cur_sub[i] in (train_ids + test_ids + val_ids)):\n",
    "            Images_index[cur_sub[i]] = cur_image_index\n",
    "        else:\n",
    "            # print(\"Didn't find \", cur_sub[i], \" in the events\\n\")\n",
    "            missing_images_counter += 1\n",
    "    # if missing_images_counter == 0:\n",
    "    #     print(\"NO missing images from the events!\\n\")\n",
    "    # else:\n",
    "    #     print(f\"There are {missing_images_counter} missing images from the events.\")\n",
    "    Image_names = list(Images_index.keys())\n",
    "    Images_index_list = list(Images_index.values())\n",
    "\n",
    "    sub_RDM = []\n",
    "    for timepoints in range(posterior_epochs._data.shape[2]):\n",
    "        cur_RDM = []    # Initialize the matrix\n",
    "        for i in range(len(Image_names)):\n",
    "            cur_dis_list = []\n",
    "            row_data = posterior_epochs._data[Images_index[Image_names[i]], :, timepoints].mean(axis = 0)\n",
    "            for j in range(len(Image_names)):\n",
    "                if i > j:\n",
    "                    cur_dis_list.append(cur_RDM[j][i])\n",
    "                    continue\n",
    "                elif i == j:\n",
    "                    cur_dis_list.append(0.0)\n",
    "                    continue\n",
    "                else:\n",
    "                    column_data = posterior_epochs._data[Images_index[Image_names[j]], :, timepoints].mean(axis = 0)\n",
    "                    cur_coef = 1 - scipy.stats.pearsonr(row_data, column_data)[0]\n",
    "                    cur_dis_list.append(cur_coef)\n",
    "            cur_RDM.append(cur_dis_list)\n",
    "        sub_RDM.append(cur_RDM)\n",
    "        # print(f\"Done with timepoint#{timepoints}\")\n",
    "    print(f\"Shape of subject {subject_name} is: {len(Image_names)}\")\n",
    "\n",
    "    np.save(os.path.join(project_path, \"Noise_Ceiling\", subject_name + \"_RDM(shared).npy\"), np.array(sub_RDM))"
   ]
  },
  {
   "cell_type": "code",
   "execution_count": 38,
   "metadata": {},
   "outputs": [
    {
     "name": "stdout",
     "output_type": "stream",
     "text": [
      "Reading /home/c14271389/FMG-folder/sub_24/Preprocessed epochs/sub_24-OC&CSD-AutoReject-epo.fif ...\n",
      "Reading /home/c14271389/FMG-folder/sub_20/Preprocessed epochs/sub_20-OC&CSD-AutoReject-epo.fif ...\n",
      "Reading /home/c14271389/FMG-folder/sub_30/Preprocessed epochs/sub_30-OC&CSD-AutoReject-epo.fif ...\n",
      "Reading /home/c14271389/FMG-folder/sub_22/Preprocessed epochs/sub_22-OC&CSD-AutoReject-epo.fif ...\n",
      "Reading /home/c14271389/FMG-folder/sub_26/Preprocessed epochs/sub_26-OC&CSD-AutoReject-epo.fif ...\n",
      "Reading /home/c14271389/FMG-folder/sub_28/Preprocessed epochs/sub_28-OC&CSD-AutoReject-epo.fif ...\n",
      "Reading /home/c14271389/FMG-folder/sub_29/Preprocessed epochs/sub_29-OC&CSD-AutoReject-epo.fif ...\n",
      "Reading /home/c14271389/FMG-folder/sub_27/Preprocessed epochs/sub_27-OC&CSD-AutoReject-epo.fif ...\n",
      "Reading /home/c14271389/FMG-folder/sub_25/Preprocessed epochs/sub_25-OC&CSD-AutoReject-epo.fif ...\n",
      "Reading /home/c14271389/FMG-folder/sub_21/Preprocessed epochs/sub_21-OC&CSD-AutoReject-epo.fif ...\n",
      "Reading /home/c14271389/FMG-folder/sub_23/Preprocessed epochs/sub_23-OC&CSD-AutoReject-epo.fif ...\n",
      "Reading /home/c14271389/FMG-folder/sub_35/Preprocessed epochs/sub_35-OC&CSD-AutoReject-epo.fif ...\n",
      "Reading /home/c14271389/FMG-folder/sub_34/Preprocessed epochs/sub_34-OC&CSD-AutoReject-epo.fif ...\n",
      "Reading /home/c14271389/FMG-folder/sub_33/Preprocessed epochs/sub_33-OC&CSD-AutoReject-epo.fif ...\n",
      "Reading /home/c14271389/FMG-folder/sub_32/Preprocessed epochs/sub_32-OC&CSD-AutoReject-epo.fif ...\n",
      "Reading /home/c14271389/FMG-folder/sub_31/Preprocessed epochs/sub_31-OC&CSD-AutoReject-epo.fif ...\n",
      "    Found the data of interest:\n",
      "        t =     -99.61 ...     400.39 ms\n",
      "        0 CTF compensation matrices available\n",
      "Not setting metadata\n",
      "2893 matching events found\n",
      "No baseline correction applied\n",
      "0 projection items activated\n",
      "NOTE: pick_types() is a legacy function. New code should use inst.pick(...).\n",
      "NOTE: pick_channels() is a legacy function. New code should use inst.pick(...).\n"
     ]
    },
    {
     "name": "stderr",
     "output_type": "stream",
     "text": [
      "/tmp/ipykernel_1394839/2770925537.py:10: FutureWarning: The default for pick_channels will change from ordered=False to ordered=True in 1.5 and this will result in a change of behavior because the resulting channel order will not match. Either use a channel order that matches your instance or pass ordered=False.\n",
      "  posterior_epochs = sub_epochs.pick_channels(ch_names=posterior_lobe)\n"
     ]
    },
    {
     "name": "stdout",
     "output_type": "stream",
     "text": [
      "    Found the data of interest:\n",
      "        t =     -99.61 ...     400.39 ms\n",
      "        0 CTF compensation matrices available\n",
      "Not setting metadata\n",
      "3470 matching events found\n",
      "No baseline correction applied\n",
      "0 projection items activated\n",
      "NOTE: pick_types() is a legacy function. New code should use inst.pick(...).\n",
      "NOTE: pick_channels() is a legacy function. New code should use inst.pick(...).\n"
     ]
    },
    {
     "name": "stderr",
     "output_type": "stream",
     "text": [
      "/tmp/ipykernel_1394839/2770925537.py:10: FutureWarning: The default for pick_channels will change from ordered=False to ordered=True in 1.5 and this will result in a change of behavior because the resulting channel order will not match. Either use a channel order that matches your instance or pass ordered=False.\n",
      "  posterior_epochs = sub_epochs.pick_channels(ch_names=posterior_lobe)\n"
     ]
    },
    {
     "name": "stdout",
     "output_type": "stream",
     "text": [
      "    Found the data of interest:\n",
      "        t =     -99.61 ...     400.39 ms\n",
      "        0 CTF compensation matrices available\n",
      "Not setting metadata\n",
      "3770 matching events found\n",
      "No baseline correction applied\n",
      "0 projection items activated\n",
      "NOTE: pick_types() is a legacy function. New code should use inst.pick(...).\n",
      "NOTE: pick_channels() is a legacy function. New code should use inst.pick(...).\n"
     ]
    },
    {
     "name": "stderr",
     "output_type": "stream",
     "text": [
      "/tmp/ipykernel_1394839/2770925537.py:10: FutureWarning: The default for pick_channels will change from ordered=False to ordered=True in 1.5 and this will result in a change of behavior because the resulting channel order will not match. Either use a channel order that matches your instance or pass ordered=False.\n",
      "  posterior_epochs = sub_epochs.pick_channels(ch_names=posterior_lobe)\n"
     ]
    },
    {
     "name": "stdout",
     "output_type": "stream",
     "text": [
      "    Found the data of interest:\n",
      "        t =     -99.61 ...     400.39 ms\n",
      "        0 CTF compensation matrices available\n",
      "    Found the data of interest:\n",
      "        t =     -99.61 ...     400.39 ms\n",
      "        0 CTF compensation matrices available\n",
      "    Found the data of interest:\n",
      "    Found the data of interest:\n",
      "        t =     -99.61 ...     400.39 ms\n",
      "        t =     -99.61 ...     400.39 ms\n",
      "        0 CTF compensation matrices available\n",
      "        0 CTF compensation matrices available\n",
      "Not setting metadata\n",
      "3876 matching events found\n",
      "No baseline correction applied\n",
      "0 projection items activated\n",
      "NOTE: pick_types() is a legacy function. New code should use inst.pick(...).\n",
      "NOTE: pick_channels() is a legacy function. New code should use inst.pick(...).\n"
     ]
    },
    {
     "name": "stderr",
     "output_type": "stream",
     "text": [
      "/tmp/ipykernel_1394839/2770925537.py:10: FutureWarning: The default for pick_channels will change from ordered=False to ordered=True in 1.5 and this will result in a change of behavior because the resulting channel order will not match. Either use a channel order that matches your instance or pass ordered=False.\n",
      "  posterior_epochs = sub_epochs.pick_channels(ch_names=posterior_lobe)\n"
     ]
    },
    {
     "name": "stdout",
     "output_type": "stream",
     "text": [
      "Not setting metadata\n",
      "3921 matching events found\n",
      "No baseline correction applied\n",
      "0 projection items activated\n",
      "NOTE: pick_types() is a legacy function. New code should use inst.pick(...).\n",
      "Not setting metadata\n",
      "3968 matching events found\n",
      "No baseline correction applied\n",
      "0 projection items activated\n",
      "Not setting metadata\n",
      "3997 matching events found\n",
      "NOTE: pick_types() is a legacy function. New code should use inst.pick(...).\n",
      "No baseline correction applied\n",
      "0 projection items activated\n",
      "NOTE: pick_types() is a legacy function. New code should use inst.pick(...).\n",
      "NOTE: pick_channels() is a legacy function. New code should use inst.pick(...).\n"
     ]
    },
    {
     "name": "stderr",
     "output_type": "stream",
     "text": [
      "/tmp/ipykernel_1394839/2770925537.py:10: FutureWarning: The default for pick_channels will change from ordered=False to ordered=True in 1.5 and this will result in a change of behavior because the resulting channel order will not match. Either use a channel order that matches your instance or pass ordered=False.\n",
      "  posterior_epochs = sub_epochs.pick_channels(ch_names=posterior_lobe)\n"
     ]
    },
    {
     "name": "stdout",
     "output_type": "stream",
     "text": [
      "NOTE: pick_channels() is a legacy function. New code should use inst.pick(...).\n"
     ]
    },
    {
     "name": "stderr",
     "output_type": "stream",
     "text": [
      "/tmp/ipykernel_1394839/2770925537.py:10: FutureWarning: The default for pick_channels will change from ordered=False to ordered=True in 1.5 and this will result in a change of behavior because the resulting channel order will not match. Either use a channel order that matches your instance or pass ordered=False.\n",
      "  posterior_epochs = sub_epochs.pick_channels(ch_names=posterior_lobe)\n"
     ]
    },
    {
     "name": "stdout",
     "output_type": "stream",
     "text": [
      "NOTE: pick_channels() is a legacy function. New code should use inst.pick(...).\n"
     ]
    },
    {
     "name": "stderr",
     "output_type": "stream",
     "text": [
      "/tmp/ipykernel_1394839/2770925537.py:10: FutureWarning: The default for pick_channels will change from ordered=False to ordered=True in 1.5 and this will result in a change of behavior because the resulting channel order will not match. Either use a channel order that matches your instance or pass ordered=False.\n",
      "  posterior_epochs = sub_epochs.pick_channels(ch_names=posterior_lobe)\n"
     ]
    },
    {
     "name": "stdout",
     "output_type": "stream",
     "text": [
      "    Found the data of interest:\n",
      "        t =     -99.61 ...     400.39 ms\n",
      "        0 CTF compensation matrices available\n",
      "    Found the data of interest:\n",
      "        t =     -99.61 ...     400.39 ms\n",
      "        0 CTF compensation matrices available\n",
      "    Found the data of interest:\n",
      "        t =     -99.61 ...     400.39 ms\n",
      "        0 CTF compensation matrices available\n",
      "    Found the data of interest:\n",
      "        t =     -99.61 ...     400.39 ms\n",
      "        0 CTF compensation matrices available\n",
      "    Found the data of interest:\n",
      "        t =     -99.61 ...     400.39 ms\n",
      "        0 CTF compensation matrices available\n",
      "    Found the data of interest:\n",
      "    Found the data of interest:\n",
      "        t =     -99.61 ...     400.39 ms\n",
      "        t =     -99.61 ...     400.39 ms\n",
      "        0 CTF compensation matrices available\n",
      "        0 CTF compensation matrices available\n",
      "    Found the data of interest:\n",
      "        t =     -99.61 ...     400.39 ms\n",
      "        0 CTF compensation matrices available\n",
      "    Found the data of interest:\n",
      "        t =     -99.61 ...     400.39 ms\n",
      "        0 CTF compensation matrices available\n",
      "Not setting metadata\n",
      "4656 matching events found\n",
      "No baseline correction applied\n",
      "0 projection items activated\n",
      "NOTE: pick_types() is a legacy function. New code should use inst.pick(...).\n",
      "Not setting metadata\n",
      "4693 matching events found\n",
      "No baseline correction applied\n",
      "0 projection items activated\n",
      "NOTE: pick_types() is a legacy function. New code should use inst.pick(...).\n",
      "NOTE: pick_channels() is a legacy function. New code should use inst.pick(...).\n"
     ]
    },
    {
     "name": "stderr",
     "output_type": "stream",
     "text": [
      "/tmp/ipykernel_1394839/2770925537.py:10: FutureWarning: The default for pick_channels will change from ordered=False to ordered=True in 1.5 and this will result in a change of behavior because the resulting channel order will not match. Either use a channel order that matches your instance or pass ordered=False.\n",
      "  posterior_epochs = sub_epochs.pick_channels(ch_names=posterior_lobe)\n"
     ]
    },
    {
     "name": "stdout",
     "output_type": "stream",
     "text": [
      "NOTE: pick_channels() is a legacy function. New code should use inst.pick(...).\n"
     ]
    },
    {
     "name": "stderr",
     "output_type": "stream",
     "text": [
      "/tmp/ipykernel_1394839/2770925537.py:10: FutureWarning: The default for pick_channels will change from ordered=False to ordered=True in 1.5 and this will result in a change of behavior because the resulting channel order will not match. Either use a channel order that matches your instance or pass ordered=False.\n",
      "  posterior_epochs = sub_epochs.pick_channels(ch_names=posterior_lobe)\n"
     ]
    },
    {
     "name": "stdout",
     "output_type": "stream",
     "text": [
      "Not setting metadata\n",
      "4788 matching events found\n",
      "No baseline correction applied\n",
      "0 projection items activated\n",
      "NOTE: pick_types() is a legacy function. New code should use inst.pick(...).\n",
      "Not setting metadata\n",
      "4747 matching events found\n",
      "No baseline correction applied\n",
      "0 projection items activated\n",
      "NOTE: pick_types() is a legacy function. New code should use inst.pick(...).\n",
      "NOTE: pick_channels() is a legacy function. New code should use inst.pick(...).\n"
     ]
    },
    {
     "name": "stderr",
     "output_type": "stream",
     "text": [
      "/tmp/ipykernel_1394839/2770925537.py:10: FutureWarning: The default for pick_channels will change from ordered=False to ordered=True in 1.5 and this will result in a change of behavior because the resulting channel order will not match. Either use a channel order that matches your instance or pass ordered=False.\n",
      "  posterior_epochs = sub_epochs.pick_channels(ch_names=posterior_lobe)\n"
     ]
    },
    {
     "name": "stdout",
     "output_type": "stream",
     "text": [
      "NOTE: pick_channels() is a legacy function. New code should use inst.pick(...).\n"
     ]
    },
    {
     "name": "stderr",
     "output_type": "stream",
     "text": [
      "/tmp/ipykernel_1394839/2770925537.py:10: FutureWarning: The default for pick_channels will change from ordered=False to ordered=True in 1.5 and this will result in a change of behavior because the resulting channel order will not match. Either use a channel order that matches your instance or pass ordered=False.\n",
      "  posterior_epochs = sub_epochs.pick_channels(ch_names=posterior_lobe)\n"
     ]
    },
    {
     "name": "stdout",
     "output_type": "stream",
     "text": [
      "Not setting metadata\n",
      "4650 matching events found\n",
      "No baseline correction applied\n",
      "0 projection items activated\n",
      "NOTE: pick_types() is a legacy function. New code should use inst.pick(...).\n",
      "Not setting metadata\n",
      "4646 matching events found\n",
      "No baseline correction applied\n",
      "0 projection items activated\n",
      "NOTE: pick_types() is a legacy function. New code should use inst.pick(...).\n",
      "Not setting metadata\n",
      "4754 matching events found\n",
      "No baseline correction applied\n",
      "0 projection items activated\n",
      "NOTE: pick_types() is a legacy function. New code should use inst.pick(...).\n",
      "Not setting metadata\n",
      "4741 matching events found\n",
      "No baseline correction applied\n",
      "0 projection items activated\n",
      "NOTE: pick_types() is a legacy function. New code should use inst.pick(...).\n",
      "NOTE: pick_channels() is a legacy function. New code should use inst.pick(...).\n"
     ]
    },
    {
     "name": "stderr",
     "output_type": "stream",
     "text": [
      "/tmp/ipykernel_1394839/2770925537.py:10: FutureWarning: The default for pick_channels will change from ordered=False to ordered=True in 1.5 and this will result in a change of behavior because the resulting channel order will not match. Either use a channel order that matches your instance or pass ordered=False.\n",
      "  posterior_epochs = sub_epochs.pick_channels(ch_names=posterior_lobe)\n"
     ]
    },
    {
     "name": "stdout",
     "output_type": "stream",
     "text": [
      "NOTE: pick_channels() is a legacy function. New code should use inst.pick(...).\n"
     ]
    },
    {
     "name": "stderr",
     "output_type": "stream",
     "text": [
      "/tmp/ipykernel_1394839/2770925537.py:10: FutureWarning: The default for pick_channels will change from ordered=False to ordered=True in 1.5 and this will result in a change of behavior because the resulting channel order will not match. Either use a channel order that matches your instance or pass ordered=False.\n",
      "  posterior_epochs = sub_epochs.pick_channels(ch_names=posterior_lobe)\n"
     ]
    },
    {
     "name": "stdout",
     "output_type": "stream",
     "text": [
      "NOTE: pick_channels() is a legacy function. New code should use inst.pick(...).\n"
     ]
    },
    {
     "name": "stderr",
     "output_type": "stream",
     "text": [
      "/tmp/ipykernel_1394839/2770925537.py:10: FutureWarning: The default for pick_channels will change from ordered=False to ordered=True in 1.5 and this will result in a change of behavior because the resulting channel order will not match. Either use a channel order that matches your instance or pass ordered=False.\n",
      "  posterior_epochs = sub_epochs.pick_channels(ch_names=posterior_lobe)\n"
     ]
    },
    {
     "name": "stdout",
     "output_type": "stream",
     "text": [
      "NOTE: pick_channels() is a legacy function. New code should use inst.pick(...).\n"
     ]
    },
    {
     "name": "stderr",
     "output_type": "stream",
     "text": [
      "/tmp/ipykernel_1394839/2770925537.py:10: FutureWarning: The default for pick_channels will change from ordered=False to ordered=True in 1.5 and this will result in a change of behavior because the resulting channel order will not match. Either use a channel order that matches your instance or pass ordered=False.\n",
      "  posterior_epochs = sub_epochs.pick_channels(ch_names=posterior_lobe)\n"
     ]
    },
    {
     "name": "stdout",
     "output_type": "stream",
     "text": [
      "Not setting metadata\n",
      "4766 matching events found\n",
      "No baseline correction applied\n",
      "0 projection items activated\n",
      "NOTE: pick_types() is a legacy function. New code should use inst.pick(...).\n",
      "NOTE: pick_channels() is a legacy function. New code should use inst.pick(...).\n"
     ]
    },
    {
     "name": "stderr",
     "output_type": "stream",
     "text": [
      "/tmp/ipykernel_1394839/2770925537.py:10: FutureWarning: The default for pick_channels will change from ordered=False to ordered=True in 1.5 and this will result in a change of behavior because the resulting channel order will not match. Either use a channel order that matches your instance or pass ordered=False.\n",
      "  posterior_epochs = sub_epochs.pick_channels(ch_names=posterior_lobe)\n"
     ]
    },
    {
     "name": "stdout",
     "output_type": "stream",
     "text": [
      "Shape of subject sub_30 is: 211\n",
      "Shape of subject sub_24 is: 211\n",
      "Shape of subject sub_34 is: 211\n",
      "Shape of subject sub_21 is: 211\n",
      "Shape of subject sub_20 is: 211\n",
      "Shape of subject sub_31 is: 211\n",
      "Shape of subject sub_35 is: 211\n",
      "Shape of subject sub_23 is: 211\n",
      "Shape of subject sub_33 is: 211\n",
      "Shape of subject sub_28 is: 211\n",
      "Shape of subject sub_22 is: 211\n",
      "Shape of subject sub_29 is: 211\n",
      "Shape of subject sub_27 is: 211\n",
      "Shape of subject sub_26 is: 211\n",
      "Shape of subject sub_32 is: 211\n",
      "Shape of subject sub_25 is: 211\n",
      "9161.32809996605\n"
     ]
    }
   ],
   "source": [
    "start_sub = 20\n",
    "end_sub = 35\n",
    "with multiprocessing.Pool(end_sub - start_sub + 1) as p:\n",
    "    start = time.time()\n",
    "    sub_iter = list(range(start_sub, end_sub+1))\n",
    "    p.map(shared, iterable = sub_iter)\n",
    "    end = time.time()\n",
    "    print(end-start)"
   ]
  },
  {
   "cell_type": "code",
   "execution_count": 39,
   "metadata": {},
   "outputs": [
    {
     "name": "stdout",
     "output_type": "stream",
     "text": [
      "(16, 513, 211, 211)\n"
     ]
    }
   ],
   "source": [
    "shared_rdms = []\n",
    "for i in range(20, 36):\n",
    "    sub = \"sub_\" + str(i)\n",
    "    cur_sub = np.load(os.path.join(project_path, \"Noise_Ceiling\", sub + \"_RDM(shared).npy\"))\n",
    "    shared_rdms.append(cur_sub)\n",
    "\n",
    "shared_rdms = np.array(shared_rdms)\n",
    "print(shared_rdms.shape)"
   ]
  },
  {
   "cell_type": "code",
   "execution_count": 44,
   "metadata": {},
   "outputs": [],
   "source": [
    "all_low = []\n",
    "all_high = []\n",
    "for timepoints in range(513):\n",
    "    cur_time = shared_rdms[:, timepoints, :, :]\n",
    "    zscore = np.array([scipy.stats.zscore(i, axis = None) for i in cur_time])\n",
    "    avg_cur = zscore.mean(axis = 0)\n",
    "    lower_bound = []\n",
    "    upper_bound = []\n",
    "    for i in range(20, 36):\n",
    "        cur_sub = shared_rdms[i-20, timepoints, :, :]\n",
    "        cur_sub = scipy.stats.zscore(cur_sub, axis = None)\n",
    "        left_out = list(range(0,i-20)) + list(range(i-19,16))\n",
    "        left_out = shared_rdms[left_out, timepoints, :, :]\n",
    "        z_left_out = np.array([scipy.stats.zscore(i, axis = None) for i in left_out])\n",
    "        avg_left_out = z_left_out.mean(axis = 0)\n",
    "\n",
    "        high_cur = 1 - scipy.stats.pearsonr(avg_cur.flatten(), cur_sub.flatten())[0]\n",
    "        upper_bound.append(high_cur)\n",
    "        low_cur = 1 - scipy.stats.pearsonr(avg_left_out.flatten(), cur_sub.flatten())[0]\n",
    "        lower_bound.append(low_cur)\n",
    "    all_high.append(np.array(upper_bound).mean())\n",
    "    all_low.append(np.array(lower_bound).mean())\n",
    "\n",
    "np.save(os.path.join(project_path, \"upper_bound.npy\"), np.array(all_high))\n",
    "np.save(os.path.join(project_path, \"lower_bound.npy\"), np.array(all_low))"
   ]
  },
  {
   "cell_type": "code",
   "execution_count": 43,
   "metadata": {},
   "outputs": [
    {
     "name": "stdout",
     "output_type": "stream",
     "text": [
      "[-2.38931816  0.47869604 -0.32381786 -0.26619157  0.10346329  0.24415647\n",
      "  0.29040974  0.16914886 -0.18938209  0.49685608]\n",
      "[-2.38931816  0.47869604 -0.32381786 -0.26619157  0.10346329  0.24415647\n",
      "  0.29040974  0.16914886 -0.18938209  0.49685608]\n"
     ]
    }
   ],
   "source": [
    "print(avg_cur.flatten()[:10])\n",
    "print(avg_left_out.flatten()[:10])\n"
   ]
  }
 ],
 "metadata": {
  "kernelspec": {
   "display_name": "base",
   "language": "python",
   "name": "python3"
  },
  "language_info": {
   "codemirror_mode": {
    "name": "ipython",
    "version": 3
   },
   "file_extension": ".py",
   "mimetype": "text/x-python",
   "name": "python",
   "nbconvert_exporter": "python",
   "pygments_lexer": "ipython3",
   "version": "3.10.8"
  },
  "orig_nbformat": 4
 },
 "nbformat": 4,
 "nbformat_minor": 2
}
